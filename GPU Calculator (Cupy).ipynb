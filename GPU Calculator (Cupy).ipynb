{
 "cells": [
  {
   "cell_type": "code",
   "execution_count": 1,
   "id": "8b6de482-d289-4446-acf4-f6990d5226bd",
   "metadata": {},
   "outputs": [
    {
     "name": "stdout",
     "output_type": "stream",
     "text": [
      "Addition Result: [6 6 6 6 6]\n",
      "Subtraction Result: [-4 -2  0  2  4]\n",
      "Multiplication Result: [5 8 9 8 5]\n",
      "Division Result: [0.2 0.5 1.  2.  5. ]\n"
     ]
    }
   ],
   "source": [
    "import cupy as cp\n",
    "\n",
    "def gpu_calculator(operation, a, b):\n",
    "    # Transfer input data to GPU\n",
    "    arr_a = cp.array(a)\n",
    "    arr_b = cp.array(b)\n",
    "    \n",
    "    # Perform the requested operation\n",
    "    if operation == 'add':\n",
    "        result = cp.add(arr_a, arr_b)\n",
    "    elif operation == 'subtract':\n",
    "        result = cp.subtract(arr_a, arr_b)\n",
    "    elif operation == 'multiply':\n",
    "        result = cp.multiply(arr_a, arr_b)\n",
    "    elif operation == 'divide':\n",
    "        result = cp.divide(arr_a, arr_b)\n",
    "    else:\n",
    "        raise ValueError(\"Unknown operation: choose from 'add', 'subtract', 'multiply', 'divide'\")\n",
    "    \n",
    "    # Transfer result back to CPU and return\n",
    "    return cp.asnumpy(result)\n",
    "\n",
    "# Example usage:\n",
    "a = [1, 2, 3, 4, 5]\n",
    "b = [5, 4, 3, 2, 1]\n",
    "\n",
    "# Perform addition\n",
    "result = gpu_calculator('add', a, b)\n",
    "print(\"Addition Result:\", result)\n",
    "\n",
    "# Perform subtraction\n",
    "result = gpu_calculator('subtract', a, b)\n",
    "print(\"Subtraction Result:\", result)\n",
    "\n",
    "# Perform multiplication\n",
    "result = gpu_calculator('multiply', a, b)\n",
    "print(\"Multiplication Result:\", result)\n",
    "\n",
    "# Perform division\n",
    "result = gpu_calculator('divide', a, b)\n",
    "print(\"Division Result:\", result)"
   ]
  },
  {
   "cell_type": "code",
   "execution_count": null,
   "id": "2444ecd6-b1e9-46fe-bc36-fde19e27c8f5",
   "metadata": {},
   "outputs": [],
   "source": []
  }
 ],
 "metadata": {
  "kernelspec": {
   "display_name": "Python 3 (ipykernel)",
   "language": "python",
   "name": "python3"
  },
  "language_info": {
   "codemirror_mode": {
    "name": "ipython",
    "version": 3
   },
   "file_extension": ".py",
   "mimetype": "text/x-python",
   "name": "python",
   "nbconvert_exporter": "python",
   "pygments_lexer": "ipython3",
   "version": "3.12.4"
  }
 },
 "nbformat": 4,
 "nbformat_minor": 5
}
