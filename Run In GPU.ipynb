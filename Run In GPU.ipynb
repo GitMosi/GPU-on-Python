{
 "cells": [
  {
   "cell_type": "code",
   "execution_count": 7,
   "metadata": {},
   "outputs": [
    {
     "name": "stdout",
     "output_type": "stream",
     "text": [
      "Without GPU: 2.6827477000188082\n",
      "With GPU: 0.06197740009520203\n",
      "Speedup Rate (CPU time / GPU time): 43.285902537019986 Times Faster!\n"
     ]
    }
   ],
   "source": [
    "from numba import cuda \n",
    "import numpy as np \n",
    "# to measure execution time \n",
    "from timeit import default_timer as timer \n",
    "\n",
    "# Normal function to run on CPU \n",
    "def func(a):                                 \n",
    "    for i in range(a.size):  # Loop through all elements of the array\n",
    "        a[i] += 1  # Increment each element by 1\n",
    "\n",
    "# Function optimized to run on GPU \n",
    "@cuda.jit  # This decorator compiles the function for GPU execution\n",
    "def func2(a): \n",
    "    idx = cuda.grid(1)  # Get the unique thread index for the current block\n",
    "    if idx < a.size:  # Check if the index is within the bounds of the array\n",
    "        a[idx] += 1  # Increment the element at that index\n",
    "\n",
    "if __name__ == \"__main__\": \n",
    "    n = 10000000  # Define the size of the array\n",
    "    a = np.ones(n, dtype=np.float64)  # Create an array of ones on the host\n",
    "\n",
    "    start = timer()  # Start the timer for CPU execution\n",
    "    func(a)  # Execute the CPU function\n",
    "    cpu_time = timer() - start  # Calculate the elapsed time for CPU\n",
    "    print(\"Without GPU:\", cpu_time)  # Print the time taken for CPU execution\n",
    "    \n",
    "    # Allocate array on GPU memory and copy data from host to device\n",
    "    a_global_mem = cuda.to_device(a) \n",
    "    \n",
    "    # Configure the number of threads per block and the number of blocks\n",
    "    threads_per_block = 256  # Define how many threads will be in each block\n",
    "    blocks_per_grid = (n + (threads_per_block - 1)) // threads_per_block  # Number of blocks needed\n",
    "\n",
    "    start = timer()  # Start the timer for GPU execution\n",
    "    func2[blocks_per_grid, threads_per_block](a_global_mem)  # Launch the GPU kernel\n",
    "    cuda.synchronize()  # Wait for the GPU to finish executing\n",
    "    gpu_time = timer() - start  # Calculate the elapsed time for GPU\n",
    "    print(\"With GPU:\", gpu_time)  # Print the time taken for GPU execution\n",
    "    \n",
    "    # Copy the result back to the host memory from device memory\n",
    "    result = a_global_mem.copy_to_host()\n",
    "    \n",
    "    # Calculate and print the speedup\n",
    "    speedup = cpu_time / gpu_time  # Calculate the speedup rate\n",
    "    print(f\"Speedup Rate (CPU time / GPU time): {speedup} Times Faster!\")  # Print the speedup ratio"
   ]
  },
  {
   "cell_type": "code",
   "execution_count": null,
   "metadata": {},
   "outputs": [],
   "source": []
  }
 ],
 "metadata": {
  "kernelspec": {
   "display_name": "Python 3 (ipykernel)",
   "language": "python",
   "name": "python3"
  },
  "language_info": {
   "codemirror_mode": {
    "name": "ipython",
    "version": 3
   },
   "file_extension": ".py",
   "mimetype": "text/x-python",
   "name": "python",
   "nbconvert_exporter": "python",
   "pygments_lexer": "ipython3",
   "version": "3.12.4"
  }
 },
 "nbformat": 4,
 "nbformat_minor": 4
}
